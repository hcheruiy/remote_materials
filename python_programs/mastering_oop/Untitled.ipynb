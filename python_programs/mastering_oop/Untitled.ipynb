{
 "cells": [
  {
   "cell_type": "code",
   "execution_count": 5,
   "metadata": {},
   "outputs": [],
   "source": [
    "test_list = \"\"\"\n",
    ">>> f = [1, 1, 2, 3, ]\n",
    ">>> f += [f[-1] + f[-2]]\n",
    ">>> f\n",
    "\"\"\"\n",
    "if __name__ == \"__main__\":\n",
    "    import doctest\n",
    "    __test__ = {name: value for name, value in locals().items() \n",
    "                if name.startswith('test_')}\n",
    "    doctest.testmod(verbose = False)\n",
    "    "
   ]
  },
  {
   "cell_type": "code",
   "execution_count": 6,
   "metadata": {},
   "outputs": [],
   "source": [
    "def factorial(n: int) -> int:\n",
    "    \"\"\"\n",
    "    Compute n! recursively.\n",
    "    \n",
    "    :param n: an interger >= 0\n",
    "    :returns: n!\n",
    "    \n",
    "    Because of Python's stack limitatin, this won't compute.\n",
    "    \n",
    "    >>> factorial(5)\n",
    "    120\n",
    "    \"\"\"\n",
    "    if n == 0:\n",
    "        return 1\n",
    "    \n",
    "    return n * factorial(n - 1)"
   ]
  },
  {
   "cell_type": "code",
   "execution_count": 7,
   "metadata": {},
   "outputs": [
    {
     "name": "stdout",
     "output_type": "stream",
     "text": [
      "Help on function factorial in module __main__:\n",
      "\n",
      "factorial(n: int) -> int\n",
      "    Compute n! recursively.\n",
      "    \n",
      "    :param n: an interger >= 0\n",
      "    :returns: n!\n",
      "    \n",
      "    Because of Python's stack limitatin, this won't compute.\n",
      "    \n",
      "    >>> factorial(5)\n",
      "    120\n",
      "\n"
     ]
    }
   ],
   "source": [
    "help(factorial)"
   ]
  },
  {
   "cell_type": "markdown",
   "metadata": {},
   "source": [
    "### The implicit superclass - `object`"
   ]
  },
  {
   "cell_type": "code",
   "execution_count": 8,
   "metadata": {},
   "outputs": [
    {
     "data": {
      "text/plain": [
       "type"
      ]
     },
     "execution_count": 8,
     "metadata": {},
     "output_type": "execute_result"
    }
   ],
   "source": [
    "class X:\n",
    "    pass\n",
    "\n",
    "X.__class__"
   ]
  },
  {
   "cell_type": "code",
   "execution_count": 9,
   "metadata": {},
   "outputs": [
    {
     "data": {
      "text/plain": [
       "object"
      ]
     },
     "execution_count": 9,
     "metadata": {},
     "output_type": "execute_result"
    }
   ],
   "source": [
    "X.__class__.__base__"
   ]
  },
  {
   "cell_type": "code",
   "execution_count": 10,
   "metadata": {},
   "outputs": [
    {
     "data": {
      "text/plain": [
       "104"
      ]
     },
     "execution_count": 10,
     "metadata": {},
     "output_type": "execute_result"
    }
   ],
   "source": [
    "class Rectangle:\n",
    "    def area(self) -> float:\n",
    "        return self.length * self.width\n",
    "    \n",
    "r = Rectangle()\n",
    "r.length, r.width = 13, 8\n",
    "r.area()"
   ]
  },
  {
   "cell_type": "code",
   "execution_count": 12,
   "metadata": {},
   "outputs": [],
   "source": [
    "from typing import Tuple\n",
    "\n",
    "class Card:\n",
    "    \n",
    "    def __init__(self, rank: str, suit: str) -> None:\n",
    "        self.suit = suit\n",
    "        self.rank = rank\n",
    "        self.hard, self.soft = self._points()\n",
    "        \n",
    "    def _points(self) -> Tuple[int, int]:\n",
    "        return int(self.rank), int(self.rank)\n",
    "    \n",
    "class AceCard(Card):\n",
    "    \n",
    "    def _points(self) -> Tuple[int, int]:\n",
    "        return 1, 11\n",
    "    \n",
    "class FaceCard(Card):\n",
    "    \n",
    "    def _points(self) -> Tuple[int, int]:\n",
    "        return 10, 10"
   ]
  },
  {
   "cell_type": "code",
   "execution_count": 13,
   "metadata": {},
   "outputs": [
    {
     "data": {
      "text/plain": [
       "[<__main__.AceCard at 0x7fe4a9d41208>,\n",
       " <__main__.Card at 0x7fe4a9d411d0>,\n",
       " <__main__.FaceCard at 0x7fe4a9d41048>]"
      ]
     },
     "execution_count": 13,
     "metadata": {},
     "output_type": "execute_result"
    }
   ],
   "source": [
    "cards = [AceCard('A', '♠'), Card('2','♠'), FaceCard('J','♠'), ]\n",
    "cards"
   ]
  },
  {
   "cell_type": "code",
   "execution_count": 14,
   "metadata": {},
   "outputs": [],
   "source": [
    "from enum import Enum\n",
    "\n",
    "class Suit(str, Enum):\n",
    "    Club = \"♣\"\n",
    "    Diamond = \"♦\"\n",
    "    Heart = \"♥\"\n",
    "    Spade = \"♠\""
   ]
  },
  {
   "cell_type": "code",
   "execution_count": 15,
   "metadata": {},
   "outputs": [
    {
     "data": {
      "text/plain": [
       "<Suit.Club: '♣'>"
      ]
     },
     "execution_count": 15,
     "metadata": {},
     "output_type": "execute_result"
    }
   ],
   "source": [
    "Suit.Club"
   ]
  },
  {
   "cell_type": "code",
   "execution_count": 16,
   "metadata": {},
   "outputs": [
    {
     "data": {
      "text/plain": [
       "'♥'"
      ]
     },
     "execution_count": 16,
     "metadata": {},
     "output_type": "execute_result"
    }
   ],
   "source": [
    "Suit.Heart.value"
   ]
  },
  {
   "cell_type": "code",
   "execution_count": 17,
   "metadata": {},
   "outputs": [],
   "source": [
    "cards = [AceCard('A', Suit.Spade), Card('2', Suit.Spade),\n",
    "         FaceCard('Q', Suit.Spade), ]"
   ]
  },
  {
   "cell_type": "code",
   "execution_count": 18,
   "metadata": {},
   "outputs": [
    {
     "data": {
      "text/plain": [
       "[<__main__.AceCard at 0x7fe4aa056320>,\n",
       " <__main__.Card at 0x7fe4aa056358>,\n",
       " <__main__.FaceCard at 0x7fe4aa056390>]"
      ]
     },
     "execution_count": 18,
     "metadata": {},
     "output_type": "execute_result"
    }
   ],
   "source": [
    "cards"
   ]
  },
  {
   "cell_type": "code",
   "execution_count": 19,
   "metadata": {},
   "outputs": [
    {
     "data": {
      "text/plain": [
       "[<Suit.Club: '♣'>, <Suit.Diamond: '♦'>, <Suit.Heart: '♥'>, <Suit.Spade: '♠'>]"
      ]
     },
     "execution_count": 19,
     "metadata": {},
     "output_type": "execute_result"
    }
   ],
   "source": [
    "list(Suit)"
   ]
  },
  {
   "cell_type": "code",
   "execution_count": 20,
   "metadata": {},
   "outputs": [
    {
     "ename": "AttributeError",
     "evalue": "can't set attribute",
     "output_type": "error",
     "traceback": [
      "\u001b[0;31m---------------------------------------------------------------------------\u001b[0m",
      "\u001b[0;31mAttributeError\u001b[0m                            Traceback (most recent call last)",
      "\u001b[0;32m<ipython-input-20-7cbb5c4da2dd>\u001b[0m in \u001b[0;36m<module>\u001b[0;34m\u001b[0m\n\u001b[0;32m----> 1\u001b[0;31m \u001b[0mSuit\u001b[0m\u001b[0;34m.\u001b[0m\u001b[0mHeart\u001b[0m\u001b[0;34m.\u001b[0m\u001b[0mvalue\u001b[0m \u001b[0;34m=\u001b[0m \u001b[0;34m'H'\u001b[0m\u001b[0;34m\u001b[0m\u001b[0;34m\u001b[0m\u001b[0m\n\u001b[0m",
      "\u001b[0;32m~/python_programs/python_dev/lib/python3.7/types.py\u001b[0m in \u001b[0;36m__set__\u001b[0;34m(self, instance, value)\u001b[0m\n\u001b[1;32m    173\u001b[0m     \u001b[0;32mdef\u001b[0m \u001b[0m__set__\u001b[0m\u001b[0;34m(\u001b[0m\u001b[0mself\u001b[0m\u001b[0;34m,\u001b[0m \u001b[0minstance\u001b[0m\u001b[0;34m,\u001b[0m \u001b[0mvalue\u001b[0m\u001b[0;34m)\u001b[0m\u001b[0;34m:\u001b[0m\u001b[0;34m\u001b[0m\u001b[0;34m\u001b[0m\u001b[0m\n\u001b[1;32m    174\u001b[0m         \u001b[0;32mif\u001b[0m \u001b[0mself\u001b[0m\u001b[0;34m.\u001b[0m\u001b[0mfset\u001b[0m \u001b[0;32mis\u001b[0m \u001b[0;32mNone\u001b[0m\u001b[0;34m:\u001b[0m\u001b[0;34m\u001b[0m\u001b[0;34m\u001b[0m\u001b[0m\n\u001b[0;32m--> 175\u001b[0;31m             \u001b[0;32mraise\u001b[0m \u001b[0mAttributeError\u001b[0m\u001b[0;34m(\u001b[0m\u001b[0;34m\"can't set attribute\"\u001b[0m\u001b[0;34m)\u001b[0m\u001b[0;34m\u001b[0m\u001b[0;34m\u001b[0m\u001b[0m\n\u001b[0m\u001b[1;32m    176\u001b[0m         \u001b[0mself\u001b[0m\u001b[0;34m.\u001b[0m\u001b[0mfset\u001b[0m\u001b[0;34m(\u001b[0m\u001b[0minstance\u001b[0m\u001b[0;34m,\u001b[0m \u001b[0mvalue\u001b[0m\u001b[0;34m)\u001b[0m\u001b[0;34m\u001b[0m\u001b[0;34m\u001b[0m\u001b[0m\n\u001b[1;32m    177\u001b[0m \u001b[0;34m\u001b[0m\u001b[0m\n",
      "\u001b[0;31mAttributeError\u001b[0m: can't set attribute"
     ]
    }
   ],
   "source": [
    "Suit.Heart.value = 'H'"
   ]
  },
  {
   "cell_type": "code",
   "execution_count": 21,
   "metadata": {},
   "outputs": [],
   "source": [
    "def card(rank: int, suit: Suit) -> Card:\n",
    "    if rank == 1:\n",
    "        return AceCard(\"A\", suit)\n",
    "    elif 2 <= rank < 11:\n",
    "        return Card(str(rank), suit)\n",
    "    elif 11 <= rank < 14:\n",
    "        name = {11: \"J\", 12: \"Q\", 13: \"K\"}[rank]\n",
    "        return FaceCard(name, suit)\n",
    "    raise Exception(\"Design Failure\")"
   ]
  },
  {
   "cell_type": "code",
   "execution_count": 22,
   "metadata": {},
   "outputs": [],
   "source": [
    "deck = [card(rank, suit) for rank in range(1, 14) for suit in iter(Suit)]"
   ]
  },
  {
   "cell_type": "code",
   "execution_count": 24,
   "metadata": {},
   "outputs": [
    {
     "data": {
      "text/plain": [
       "52"
      ]
     },
     "execution_count": 24,
     "metadata": {},
     "output_type": "execute_result"
    }
   ],
   "source": [
    "len(deck)"
   ]
  },
  {
   "cell_type": "code",
   "execution_count": null,
   "metadata": {},
   "outputs": [],
   "source": [
    "def card4(rank: int, suit: Suit) -> Card:\n",
    "    class_ = {1: AceCard, 11: FaceCard, 12: FaceCard,\n",
    "              13: FaceCard}.get(rank, Card)\n",
    "    \n",
    "    return class_(str(rank), suit)"
   ]
  }
 ],
 "metadata": {
  "kernelspec": {
   "display_name": "Python 3",
   "language": "python",
   "name": "python3"
  },
  "language_info": {
   "codemirror_mode": {
    "name": "ipython",
    "version": 3
   },
   "file_extension": ".py",
   "mimetype": "text/x-python",
   "name": "python",
   "nbconvert_exporter": "python",
   "pygments_lexer": "ipython3",
   "version": "3.7.3"
  }
 },
 "nbformat": 4,
 "nbformat_minor": 2
}
