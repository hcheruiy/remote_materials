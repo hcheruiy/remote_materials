{
  "nbformat": 4,
  "nbformat_minor": 0,
  "metadata": {
    "colab": {
      "name": "RNNs.ipynb",
      "provenance": [],
      "collapsed_sections": [],
      "authorship_tag": "ABX9TyMQCsR1fVD5TA5pVlrwNIzT"
    },
    "kernelspec": {
      "name": "python3",
      "display_name": "Python 3"
    },
    "accelerator": "GPU"
  },
  "cells": [
    {
      "cell_type": "code",
      "metadata": {
        "id": "uwJQaENvxiPD",
        "colab_type": "code",
        "colab": {
          "base_uri": "https://localhost:8080/",
          "height": 34
        },
        "outputId": "87505015-484e-4a51-97e2-06dab61d609f"
      },
      "source": [
        "%tensorflow_version 2.x\n",
        "\n",
        "import numpy as np\n",
        "\n",
        "from tensorflow.keras.models import Sequential\n",
        "from tensorflow.keras.layers import Dense, Activation, SimpleRNN\n",
        "from tensorflow.keras.utils import to_categorical, plot_model\n",
        "from tensorflow.keras.datasets import mnist"
      ],
      "execution_count": 1,
      "outputs": [
        {
          "output_type": "stream",
          "text": [
            "TensorFlow 2.x selected.\n"
          ],
          "name": "stdout"
        }
      ]
    },
    {
      "cell_type": "code",
      "metadata": {
        "id": "J0L3GW7byEiX",
        "colab_type": "code",
        "colab": {
          "base_uri": "https://localhost:8080/",
          "height": 1000
        },
        "outputId": "02e2b8bd-8886-4924-8d1b-b649ead1f07d"
      },
      "source": [
        "# load mnist dataset\n",
        "(X_train, y_train), (X_test, y_test) = mnist.load_data()\n",
        "\n",
        "# compute the number of labels\n",
        "num_labels = len(np.unique(y_train))\n",
        "\n",
        "# convert to one-hot vector\n",
        "y_train = to_categorical(y_train)\n",
        "y_test = to_categorical(y_test)\n",
        "\n",
        "# resize and normalize\n",
        "image_size = X_train.shape[1]\n",
        "X_train = np.reshape(X_train, [-1, image_size, image_size])\n",
        "X_test = np.reshape(X_test, [-1, image_size, image_size])\n",
        "X_train = X_train.astype('float32') / 255\n",
        "X_test = X_test.astype('float32') / 255\n",
        "\n",
        "# network parameters\n",
        "input_shape = (image_size, image_size)\n",
        "batch_size = 128\n",
        "units = 256\n",
        "dropout = 0.2\n",
        "\n",
        "# model is RNN with 256 units, input is 28-dim vector timesteps\n",
        "model = Sequential()\n",
        "model.add(SimpleRNN(units=units, dropout=dropout,\n",
        "                    input_shape = input_shape))\n",
        "model.add(Dense(num_labels))\n",
        "model.add(Activation('softmax'))\n",
        "model.summary()\n",
        "\n",
        "plot_model(model, to_file = 'rnn-mnist.png',\n",
        "           show_shapes = True)\n",
        "\n",
        "# loss function for one-hot vector\n",
        "# use of sgd optimizer\n",
        "# accuracy is good metric for classification tasks\n",
        "model.compile(loss = 'categorical_crossentropy', optimizer = 'sgd',\n",
        "              metrics = ['accuracy'])\n",
        "\n",
        "# train the network\n",
        "model.fit(X_train, y_train, epochs = 20,\n",
        "          batch_size = batch_size)\n",
        "\n",
        "loss, acc = model.evaluate(X_test, y_test, batch_size = batch_size)\n",
        "\n",
        "print(\"\\nTest accuracy: %.1f%%\" % (100.0 * acc))"
      ],
      "execution_count": 3,
      "outputs": [
        {
          "output_type": "stream",
          "text": [
            "Model: \"sequential_1\"\n",
            "_________________________________________________________________\n",
            "Layer (type)                 Output Shape              Param #   \n",
            "=================================================================\n",
            "simple_rnn_1 (SimpleRNN)     (None, 256)               72960     \n",
            "_________________________________________________________________\n",
            "dense_1 (Dense)              (None, 10)                2570      \n",
            "_________________________________________________________________\n",
            "activation_1 (Activation)    (None, 10)                0         \n",
            "=================================================================\n",
            "Total params: 75,530\n",
            "Trainable params: 75,530\n",
            "Non-trainable params: 0\n",
            "_________________________________________________________________\n",
            "Train on 60000 samples\n",
            "Epoch 1/20\n",
            "60000/60000 [==============================] - 14s 233us/sample - loss: 0.8058 - accuracy: 0.7656\n",
            "Epoch 2/20\n",
            "60000/60000 [==============================] - 11s 189us/sample - loss: 0.3739 - accuracy: 0.8884\n",
            "Epoch 3/20\n",
            "60000/60000 [==============================] - 11s 185us/sample - loss: 0.2833 - accuracy: 0.9151\n",
            "Epoch 4/20\n",
            "60000/60000 [==============================] - 11s 184us/sample - loss: 0.2328 - accuracy: 0.9299\n",
            "Epoch 5/20\n",
            "60000/60000 [==============================] - 11s 188us/sample - loss: 0.2032 - accuracy: 0.9384\n",
            "Epoch 6/20\n",
            "60000/60000 [==============================] - 11s 188us/sample - loss: 0.1814 - accuracy: 0.9452\n",
            "Epoch 7/20\n",
            "60000/60000 [==============================] - 11s 186us/sample - loss: 0.1664 - accuracy: 0.9495\n",
            "Epoch 8/20\n",
            "60000/60000 [==============================] - 11s 184us/sample - loss: 0.1506 - accuracy: 0.9543\n",
            "Epoch 9/20\n",
            "60000/60000 [==============================] - 11s 190us/sample - loss: 0.1402 - accuracy: 0.9582\n",
            "Epoch 10/20\n",
            "60000/60000 [==============================] - 11s 187us/sample - loss: 0.1353 - accuracy: 0.9597\n",
            "Epoch 11/20\n",
            "60000/60000 [==============================] - 12s 196us/sample - loss: 0.1252 - accuracy: 0.9622\n",
            "Epoch 12/20\n",
            "60000/60000 [==============================] - 11s 186us/sample - loss: 0.1214 - accuracy: 0.9632\n",
            "Epoch 13/20\n",
            "60000/60000 [==============================] - 11s 182us/sample - loss: 0.1162 - accuracy: 0.9647\n",
            "Epoch 14/20\n",
            "60000/60000 [==============================] - 11s 187us/sample - loss: 0.1108 - accuracy: 0.9664\n",
            "Epoch 15/20\n",
            "60000/60000 [==============================] - 11s 184us/sample - loss: 0.1048 - accuracy: 0.9668\n",
            "Epoch 16/20\n",
            "60000/60000 [==============================] - 11s 188us/sample - loss: 0.1027 - accuracy: 0.9681\n",
            "Epoch 17/20\n",
            "60000/60000 [==============================] - 11s 188us/sample - loss: 0.0980 - accuracy: 0.9697\n",
            "Epoch 18/20\n",
            "60000/60000 [==============================] - 11s 184us/sample - loss: 0.0952 - accuracy: 0.9704\n",
            "Epoch 19/20\n",
            "60000/60000 [==============================] - 11s 186us/sample - loss: 0.0900 - accuracy: 0.9723\n",
            "Epoch 20/20\n",
            "60000/60000 [==============================] - 11s 182us/sample - loss: 0.0892 - accuracy: 0.9728\n",
            "10000/10000 [==============================] - 1s 65us/sample - loss: 0.0628 - accuracy: 0.9802\n",
            "\n",
            "Test accuracy: 98.0%\n"
          ],
          "name": "stdout"
        }
      ]
    },
    {
      "cell_type": "code",
      "metadata": {
        "id": "NM4qANx50fmK",
        "colab_type": "code",
        "colab": {}
      },
      "source": [
        ""
      ],
      "execution_count": 0,
      "outputs": []
    }
  ]
}