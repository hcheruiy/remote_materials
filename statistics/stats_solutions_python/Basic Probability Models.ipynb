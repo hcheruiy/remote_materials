{
 "cells": [
  {
   "cell_type": "markdown",
   "metadata": {},
   "source": [
    "# Basic Probability Models\n",
    "\n",
    "To introduce the general notions of probability, the ALOHA Network Example will be used.\n",
    "\n",
    "## ALOHA Network Example\n",
    "Today's Ethernet evolved from an experimental network developed at the University of Hawaii, called ALOHA. A number of network nodes would occasionally try to use the same radio channel to communicate with a central computer. The nodes couldn't hear each other, due to the obstruction of mountains between them. If only one of them made an attempt to send, it would be successful, and it would receive an acknowledgement message in response from the central computer. But if more than one node were to transmit, a __collision__ would occur, garbling all the messages. The sending nodes would timeout after waiting for an acknowledgement which never came, and try\n",
    "sending again later. To avoid having too many collisions, nodes would engage in random __backoff__, meaning that they would refrain from sending for a while even though they had something to send."
   ]
  },
  {
   "cell_type": "code",
   "execution_count": 1,
   "metadata": {},
   "outputs": [],
   "source": [
    "import numpy as np\n",
    "import pandas as pd\n",
    "import scipy.misc as misc\n",
    "import matplotlib.pyplot as plt\n",
    "\n",
    "plt.style.use('fivethirtyeight')\n",
    "plt.rcParams['lines.linewidth'] = 1.5\n",
    "%matplotlib inline"
   ]
  },
  {
   "cell_type": "code",
   "execution_count": 2,
   "metadata": {},
   "outputs": [],
   "source": [
    "class Sample:\n",
    "    \n",
    "    def __init__(self, ratio, num_samples = 1000):\n",
    "        self.ratio = ratio\n",
    "        self.num_samples = num_samples\n",
    "        \n",
    "    def generate(self):\n",
    "        num_ones = int(self.ratio * self.num_samples)\n",
    "        num_zeros = int((1 - self.ratio) * self.num_samples)\n",
    "        \n",
    "        return np.append(np.zeros(num_zeros), np.ones(num_ones))\n",
    "    \n",
    "    def event_happens(self):\n",
    "        samples = self.generate()\n",
    "        np.random.shuffle(samples)\n",
    "        \n",
    "        return samples[0] == 1"
   ]
  },
  {
   "cell_type": "code",
   "execution_count": 3,
   "metadata": {},
   "outputs": [],
   "source": [
    "class InactiveNode:\n",
    "    \n",
    "    def __init__(self, p=None, q=None):\n",
    "        self.p = p\n",
    "        self.q = q\n",
    "        \n",
    "    def maybe_become_active(self):\n",
    "        if Sample(self.q).event_happens():\n",
    "            return ActiveNode(p = self.p, q = self.q)\n",
    "        else:\n",
    "            return InactiveNode(p = self.p, q = self.q)\n",
    "        \n",
    "    def is_sendable(self):\n",
    "        return False\n",
    "    \n",
    "    def maybe_send(self, collision):\n",
    "        return InactiveNode(p = self.p, q = self.q)\n",
    "    \n",
    "    def is_active(self):\n",
    "        return False\n",
    "    \n",
    "    def is_inactive(self):\n",
    "        return not self.is_active()"
   ]
  },
  {
   "cell_type": "code",
   "execution_count": 4,
   "metadata": {},
   "outputs": [],
   "source": [
    "class ActiveNode:\n",
    "    \n",
    "    def __init__(self, p = None, q = None):\n",
    "        self.sendable = False\n",
    "        self.p = p\n",
    "        self.q = q\n",
    "        \n",
    "    def maybe_become_active(self):\n",
    "        return ActiveNode(p = self.p, q = self.q)\n",
    "    \n",
    "    def is_sendable(self):\n",
    "        self.sendable = Sample(self.p).event_happens()\n",
    "        \n",
    "        return self.sendable\n",
    "    \n",
    "    def maybe_send(self, collision):\n",
    "        if collision or not self.sendable:\n",
    "            return ActiveNode(p = self.p, q = self.q)\n",
    "        else:\n",
    "            return InactiveNode(p = self.p, q = self.q)\n",
    "        \n",
    "    def is_active(self):\n",
    "        return True\n",
    "    \n",
    "    def is_inactive(self):\n",
    "        return not self.is_active()"
   ]
  },
  {
   "cell_type": "code",
   "execution_count": 5,
   "metadata": {},
   "outputs": [],
   "source": [
    "class Epoch:\n",
    "    \n",
    "    def __init__(self, nodes, num):\n",
    "        self.nodes = nodes\n",
    "        self.num = num\n",
    "        \n",
    "    def check_collisions(self):\n",
    "        collision = True\n",
    "        \n",
    "        for node in self.nodes:\n",
    "            collision = collision & node.is_sendable()\n",
    "        self.collision = collision\n",
    "        \n",
    "    def maybe_send(self):\n",
    "        new_nodes = []\n",
    "        for node in self.nodes:\n",
    "            new_nodes.append(node.maybe_send(self.collision))\n",
    "            \n",
    "        return new_nodes\n",
    "    \n",
    "    def maybe_become_active(self):\n",
    "        new_nodes = []\n",
    "        for node in self.nodes:\n",
    "            new_nodes.append(node.maybe_become_active())\n",
    "            \n",
    "        self.nodes = new_nodes\n",
    "        \n",
    "    def num_nodes_active(self):\n",
    "        count = 0\n",
    "        for node in self.nodes:\n",
    "            if node.is_active():\n",
    "                count += 1\n",
    "        \n",
    "        return count"
   ]
  },
  {
   "cell_type": "code",
   "execution_count": 6,
   "metadata": {},
   "outputs": [],
   "source": [
    "class Criteria():\n",
    "    \n",
    "    def __init__(self, criteria=None, given=lambda x: True):\n",
    "        self._criteria = criteria\n",
    "        self._given = given\n",
    "        \n",
    "    def given(self, active_count):\n",
    "        \n",
    "        return self._given(active_count)\n",
    "    \n",
    "    def criteria(self, active_count):\n",
    "        \n",
    "        return self._criteria(active_count)"
   ]
  },
  {
   "cell_type": "code",
   "execution_count": 7,
   "metadata": {},
   "outputs": [],
   "source": [
    "def simulate_aloha(criteria=None, \n",
    "                   given=lambda x: True, \n",
    "                   num_experiments=10000,\n",
    "                   num_nodes=2,\n",
    "                   num_epochs=2,\n",
    "                   num_active_initial=2,\n",
    "                   p=0.4,  # prob of sending as an active node\n",
    "                   q=0.8): # prob of becoming active from inactive\n",
    "    criteria = Criteria(criteria=criteria, given=given)\n",
    "    \n",
    "    def build_epoch(epoch=Epoch([ActiveNode(p=p, q=q),\n",
    "                                 ActiveNode(p=p, q=q)], 0)):\n",
    "        epoch.maybe_become_active()\n",
    "        epoch.check_collisions()\n",
    "        \n",
    "        return Epoch(epoch.maybe_send(), epoch.num + 1)\n",
    "    \n",
    "    def generate_initial_number_of_nodes():\n",
    "        nodes = []\n",
    "        for i in range(num_active_initial):\n",
    "            nodes.append(ActiveNode(p=p, q=q))\n",
    "        for i in range(num_nodes - num_active_initial):\n",
    "            nodes.append(InactiveNode(p=p, q=q))\n",
    "        return nodes\n",
    "    \n",
    "    def populate_active_count(num_new_epochs):\n",
    "        epoch = Epoch(generate_initial_number_of_nodes(), 0)\n",
    "        active_count = [epoch.num_nodes_active()]\n",
    "        for i in range(num_new_epochs):\n",
    "            epoch = build_epoch(epoch=epoch)\n",
    "            active_count.append(epoch.num_nodes_active())\n",
    "        return active_count\n",
    "    \n",
    "    counts_updater = CountsUpdater(criteria)\n",
    "\n",
    "    for experiment in range(num_experiments):\n",
    "        active_count = populate_active_count(num_epochs)\n",
    "        counts_updater.update(active_count)\n",
    "\n",
    "    # needs to divide by num times that the \"given\" section \n",
    "    # happens, if \"given\" exists\n",
    "    if counts_updater.denominator == 0:\n",
    "        return 0.0\n",
    "    else:\n",
    "        return counts_updater.numerator / counts_updater.denominator"
   ]
  },
  {
   "cell_type": "code",
   "execution_count": 8,
   "metadata": {},
   "outputs": [],
   "source": [
    "class CountsUpdater():\n",
    "    \n",
    "    def __init__(self, criteria):\n",
    "        self.criteria = criteria\n",
    "        self.numerator = 0.0\n",
    "        self.denominator = 0.0\n",
    "    \n",
    "    def update(self, active_count):\n",
    "        if self.criteria.given(active_count):\n",
    "            self.denominator += 1\n",
    "        if self.criteria.given(active_count) and \\\n",
    "           self.criteria.criteria(active_count):\n",
    "            self.numerator += 1"
   ]
  },
  {
   "cell_type": "code",
   "execution_count": 9,
   "metadata": {},
   "outputs": [
    {
     "data": {
      "text/plain": [
       "0.5241"
      ]
     },
     "execution_count": 9,
     "metadata": {},
     "output_type": "execute_result"
    }
   ],
   "source": [
    "simulate_aloha(criteria = lambda x: x[1] == 2)"
   ]
  },
  {
   "cell_type": "code",
   "execution_count": 10,
   "metadata": {},
   "outputs": [
    {
     "data": {
      "text/plain": [
       "0.4837"
      ]
     },
     "execution_count": 10,
     "metadata": {},
     "output_type": "execute_result"
    }
   ],
   "source": [
    "simulate_aloha(criteria=lambda x: x[1] == 1)"
   ]
  },
  {
   "cell_type": "code",
   "execution_count": 11,
   "metadata": {},
   "outputs": [
    {
     "data": {
      "text/plain": [
       "0.4198744769874477"
      ]
     },
     "execution_count": 11,
     "metadata": {},
     "output_type": "execute_result"
    }
   ],
   "source": [
    "simulate_aloha(criteria=lambda x: x[1] == 1,\n",
    "               given = lambda x: x[2] == 2)"
   ]
  },
  {
   "cell_type": "code",
   "execution_count": 12,
   "metadata": {},
   "outputs": [
    {
     "data": {
      "text/plain": [
       "0.7173"
      ]
     },
     "execution_count": 12,
     "metadata": {},
     "output_type": "execute_result"
    }
   ],
   "source": [
    "simulate_aloha(criteria=lambda x: x[1] == 2 or x[2] == 2)"
   ]
  },
  {
   "cell_type": "code",
   "execution_count": 13,
   "metadata": {},
   "outputs": [
    {
     "data": {
      "text/plain": [
       "0.2455"
      ]
     },
     "execution_count": 13,
     "metadata": {},
     "output_type": "execute_result"
    }
   ],
   "source": [
    "simulate_aloha(lambda x: x[1] == 2 and x[2] == 1)"
   ]
  },
  {
   "cell_type": "code",
   "execution_count": 14,
   "metadata": {},
   "outputs": [
    {
     "data": {
      "text/plain": [
       "0.0391"
      ]
     },
     "execution_count": 14,
     "metadata": {},
     "output_type": "execute_result"
    }
   ],
   "source": [
    "simulate_aloha(lambda x: x[2]==0)"
   ]
  },
  {
   "cell_type": "code",
   "execution_count": 15,
   "metadata": {},
   "outputs": [
    {
     "data": {
      "text/plain": [
       "0.4923265807243708"
      ]
     },
     "execution_count": 15,
     "metadata": {},
     "output_type": "execute_result"
    }
   ],
   "source": [
    "simulate_aloha(criteria=lambda x: x[1]==1, given=lambda x: x[2]==1)"
   ]
  },
  {
   "cell_type": "code",
   "execution_count": 16,
   "metadata": {},
   "outputs": [],
   "source": [
    "def simulate_urn_drawing(criteria=None, given=None,\n",
    "                         num_experiments=10000):\n",
    "    draws = ['placeholder']\n",
    "    experiments = []\n",
    "    first_draws = []\n",
    "    second_draws = []\n",
    "    \n",
    "    def urn_1(): \n",
    "        return ['B','B','B','Y','Y','Y']\n",
    "    def urn_2():\n",
    "        return ['B','B','B','B','B','Y','Y','Y','Y','Y','Y','Y']\n",
    "\n",
    "    for i in range(num_experiments):\n",
    "        first_draw = np.random.permutation(urn_1())[0]\n",
    "        urn_2_copy = urn_2()\n",
    "        urn_2_copy.append(first_draw)\n",
    "        second_draw = np.random.permutation(urn_2_copy)[0]\n",
    "        \n",
    "        first_draws.append(first_draw)\n",
    "        second_draws.append(second_draw)\n",
    "        \n",
    "    df = pd.DataFrame({'first_draw': first_draws,\n",
    "                       'second_draw': second_draws})\n",
    "\n",
    "    if given==None:\n",
    "        return df[criteria(df)].shape[0] / float(num_experiments)\n",
    "    else:\n",
    "        meeting_what_is_given = df[given(df)]\n",
    "        return meeting_what_is_given[criteria(meeting_what_is_given)].shape[0] \\\n",
    "                / float(meeting_what_is_given.shape[0])"
   ]
  },
  {
   "cell_type": "code",
   "execution_count": 17,
   "metadata": {},
   "outputs": [
    {
     "data": {
      "text/plain": [
       "0.4317"
      ]
     },
     "execution_count": 17,
     "metadata": {},
     "output_type": "execute_result"
    }
   ],
   "source": [
    "simulate_urn_drawing(criteria=lambda df: df['second_draw']=='B')"
   ]
  },
  {
   "cell_type": "code",
   "execution_count": 18,
   "metadata": {},
   "outputs": [
    {
     "data": {
      "text/plain": [
       "0.5419664268585132"
      ]
     },
     "execution_count": 18,
     "metadata": {},
     "output_type": "execute_result"
    }
   ],
   "source": [
    "simulate_urn_drawing(criteria=lambda df: df['first_draw']=='B',\n",
    "                     given=lambda df: df['second_draw']=='B')"
   ]
  },
  {
   "cell_type": "code",
   "execution_count": 19,
   "metadata": {},
   "outputs": [
    {
     "data": {
      "text/plain": [
       "0.206"
      ]
     },
     "execution_count": 19,
     "metadata": {},
     "output_type": "execute_result"
    }
   ],
   "source": [
    "def bug_percentage(num_programs=5,\n",
    "                   exactly_have_bug=2, \n",
    "                   num_experiments=10000, \n",
    "                   prob_bug=0.2):\n",
    "    ones = np.ones(int(prob_bug * 10))\n",
    "    zeros = np.zeros(int((1.0-prob_bug) * 10))\n",
    "    \n",
    "    vals = np.append(ones, zeros)\n",
    "   \n",
    "    count = 0\n",
    "    for i in range(num_experiments):\n",
    "        \n",
    "        result = []\n",
    "        for x in range(num_programs):\n",
    "            val = np.random.permutation(vals)[0]\n",
    "            result.append(val)\n",
    "            \n",
    "        if np.array(result).sum() == exactly_have_bug:\n",
    "            count += 1\n",
    "    \n",
    "    return count / float(num_experiments)\n",
    "        \n",
    "bug_percentage()"
   ]
  },
  {
   "cell_type": "code",
   "execution_count": null,
   "metadata": {},
   "outputs": [],
   "source": []
  }
 ],
 "metadata": {
  "kernelspec": {
   "display_name": "Python 3",
   "language": "python",
   "name": "python3"
  },
  "language_info": {
   "codemirror_mode": {
    "name": "ipython",
    "version": 3
   },
   "file_extension": ".py",
   "mimetype": "text/x-python",
   "name": "python",
   "nbconvert_exporter": "python",
   "pygments_lexer": "ipython3",
   "version": "3.6.8"
  }
 },
 "nbformat": 4,
 "nbformat_minor": 2
}
