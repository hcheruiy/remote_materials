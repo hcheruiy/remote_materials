{
  "nbformat": 4,
  "nbformat_minor": 0,
  "metadata": {
    "colab": {
      "name": "CNNs.ipynb",
      "provenance": [],
      "collapsed_sections": [],
      "authorship_tag": "ABX9TyP6Gg9SpyDEKBF+qf4zDLT7"
    },
    "kernelspec": {
      "name": "python3",
      "display_name": "Python 3"
    },
    "accelerator": "GPU"
  },
  "cells": [
    {
      "cell_type": "code",
      "metadata": {
        "id": "ShxF1P6dsIGJ",
        "colab_type": "code",
        "colab": {
          "base_uri": "https://localhost:8080/",
          "height": 34
        },
        "outputId": "4d57f85e-d33f-4f07-ff49-12ac8359e0d5"
      },
      "source": [
        "%tensorflow_version 2.x\n",
        "\n",
        "# Import libraries\n",
        "import numpy as np\n",
        "from tensorflow.keras.models import Sequential\n",
        "from tensorflow.keras.layers import Activation, Dense, Dropout\n",
        "from tensorflow.keras.layers import Conv2D, MaxPooling2D, Flatten\n",
        "from tensorflow.keras.utils import to_categorical, plot_model\n",
        "from tensorflow.keras.datasets import mnist"
      ],
      "execution_count": 1,
      "outputs": [
        {
          "output_type": "stream",
          "text": [
            "TensorFlow 2.x selected.\n"
          ],
          "name": "stdout"
        }
      ]
    },
    {
      "cell_type": "code",
      "metadata": {
        "id": "FTOicHn8tZjP",
        "colab_type": "code",
        "colab": {
          "base_uri": "https://localhost:8080/",
          "height": 887
        },
        "outputId": "94e9cbc7-f3dc-496e-87cb-b8241501b8e3"
      },
      "source": [
        "# load mnist dataset\n",
        "(X_train, y_train), (X_test, y_test) = mnist.load_data()\n",
        "\n",
        "# compute the number of details\n",
        "num_labels = len(np.unique(y_train))\n",
        "\n",
        "# convert to one-hot vector\n",
        "y_train = to_categorical(y_train)\n",
        "y_test = to_categorical(y_test)\n",
        "\n",
        "# input image dimensions\n",
        "image_size = X_train.shape[1]\n",
        "\n",
        "#resize and normalize\n",
        "X_train = np.reshape(X_train, [-1, image_size, image_size, 1])\n",
        "X_test = np.reshape(X_test, [-1, image_size, image_size, 1])\n",
        "X_train = X_train.astype('float32') / 255\n",
        "X_test = X_test.astype('float32') / 255\n",
        "\n",
        "# network parameters\n",
        "# image is processed as is (square grayscale)\n",
        "input_shape = (image_size, image_size, 1)\n",
        "batch_size = 128\n",
        "kernel_size = 3\n",
        "pool_size = 2\n",
        "filters = 64\n",
        "dropout = 0.2\n",
        "\n",
        "# model is a stack of CNN-ReLU-MaxPooling\n",
        "model = Sequential()\n",
        "model.add(Conv2D(filters=filters, kernel_size=kernel_size,\n",
        "                 activation='relu', input_shape = input_shape))\n",
        "model.add(MaxPooling2D(pool_size=pool_size))\n",
        "model.add(Conv2D(filters = filters, kernel_size = kernel_size,\n",
        "                 activation = 'relu'))\n",
        "model.add(MaxPooling2D(pool_size=pool_size))\n",
        "model.add(Conv2D(filters = filters, kernel_size=kernel_size,\n",
        "                 activation='relu'))\n",
        "model.add(Flatten())\n",
        "\n",
        "# dropout added as regularizer\n",
        "model.add(Dropout(dropout))\n",
        "\n",
        "# output layer is 10-dim one-hot vector\n",
        "model.add(Dense(num_labels))\n",
        "model.add(Activation('softmax'))\n",
        "\n",
        "model.summary()\n",
        "\n",
        "plot_model(model, to_file = 'cnn-mnist.png', show_shapes = True)\n",
        "\n",
        "# loss fucntion for one-hot vector\n",
        "# use of adam optimizer\n",
        "# accuracy is good metric for classification tasks\n",
        "model.compile(loss = 'categorical_crossentropy',\n",
        "              optimizer = 'adam', metrics = ['accuracy'])\n",
        "\n",
        "# train the network\n",
        "model.fit(X_train, y_train, epochs=10, batch_size=batch_size)\n",
        "\n",
        "loss, acc = model.evaluate(X_test, y_test, batch_size = batch_size)\n",
        "\n",
        "print(\"\\nTest accuracy: %.1f%%\" % (100.0 * acc))"
      ],
      "execution_count": 3,
      "outputs": [
        {
          "output_type": "stream",
          "text": [
            "Model: \"sequential_1\"\n",
            "_________________________________________________________________\n",
            "Layer (type)                 Output Shape              Param #   \n",
            "=================================================================\n",
            "conv2d_3 (Conv2D)            (None, 26, 26, 64)        640       \n",
            "_________________________________________________________________\n",
            "max_pooling2d_2 (MaxPooling2 (None, 13, 13, 64)        0         \n",
            "_________________________________________________________________\n",
            "conv2d_4 (Conv2D)            (None, 11, 11, 64)        36928     \n",
            "_________________________________________________________________\n",
            "max_pooling2d_3 (MaxPooling2 (None, 5, 5, 64)          0         \n",
            "_________________________________________________________________\n",
            "conv2d_5 (Conv2D)            (None, 3, 3, 64)          36928     \n",
            "_________________________________________________________________\n",
            "flatten_1 (Flatten)          (None, 576)               0         \n",
            "_________________________________________________________________\n",
            "dropout_1 (Dropout)          (None, 576)               0         \n",
            "_________________________________________________________________\n",
            "dense_1 (Dense)              (None, 10)                5770      \n",
            "_________________________________________________________________\n",
            "activation_1 (Activation)    (None, 10)                0         \n",
            "=================================================================\n",
            "Total params: 80,266\n",
            "Trainable params: 80,266\n",
            "Non-trainable params: 0\n",
            "_________________________________________________________________\n",
            "Train on 60000 samples\n",
            "Epoch 1/10\n",
            "60000/60000 [==============================] - 4s 71us/sample - loss: 0.2718 - accuracy: 0.9156\n",
            "Epoch 2/10\n",
            "60000/60000 [==============================] - 4s 62us/sample - loss: 0.0715 - accuracy: 0.9771\n",
            "Epoch 3/10\n",
            "60000/60000 [==============================] - 4s 61us/sample - loss: 0.0500 - accuracy: 0.9838\n",
            "Epoch 4/10\n",
            "60000/60000 [==============================] - 4s 61us/sample - loss: 0.0399 - accuracy: 0.9872\n",
            "Epoch 5/10\n",
            "60000/60000 [==============================] - 4s 61us/sample - loss: 0.0340 - accuracy: 0.9894\n",
            "Epoch 6/10\n",
            "60000/60000 [==============================] - 4s 61us/sample - loss: 0.0278 - accuracy: 0.9910\n",
            "Epoch 7/10\n",
            "60000/60000 [==============================] - 4s 61us/sample - loss: 0.0253 - accuracy: 0.9922\n",
            "Epoch 8/10\n",
            "60000/60000 [==============================] - 4s 61us/sample - loss: 0.0217 - accuracy: 0.9929\n",
            "Epoch 9/10\n",
            "60000/60000 [==============================] - 4s 60us/sample - loss: 0.0193 - accuracy: 0.9936\n",
            "Epoch 10/10\n",
            "60000/60000 [==============================] - 4s 62us/sample - loss: 0.0172 - accuracy: 0.9941\n",
            "10000/10000 [==============================] - 0s 39us/sample - loss: 0.0248 - accuracy: 0.9929\n",
            "\n",
            "Test accuracy: 99.3%\n"
          ],
          "name": "stdout"
        }
      ]
    },
    {
      "cell_type": "code",
      "metadata": {
        "id": "5e35_I0LwbJs",
        "colab_type": "code",
        "colab": {}
      },
      "source": [
        ""
      ],
      "execution_count": 0,
      "outputs": []
    }
  ]
}